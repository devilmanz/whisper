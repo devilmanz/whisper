{
  "nbformat": 4,
  "nbformat_minor": 0,
  "metadata": {
    "colab": {
      "provenance": [],
      "gpuType": "T4",
      "authorship_tag": "ABX9TyMOscnWtbEaZ53hqp4vUmVu",
      "include_colab_link": true
    },
    "kernelspec": {
      "name": "python3",
      "display_name": "Python 3"
    },
    "language_info": {
      "name": "python"
    },
    "accelerator": "GPU"
  },
  "cells": [
    {
      "cell_type": "markdown",
      "metadata": {
        "id": "view-in-github",
        "colab_type": "text"
      },
      "source": [
        "<a href=\"https://colab.research.google.com/github/devilmanz/whisper/blob/main/whisper.ipynb\" target=\"_parent\"><img src=\"https://colab.research.google.com/assets/colab-badge.svg\" alt=\"Open In Colab\"/></a>"
      ]
    },
    {
      "cell_type": "markdown",
      "source": [
        "## Whisper: speech recognition model"
      ],
      "metadata": {
        "id": "SKyI9z3nb_mF"
      }
    },
    {
      "cell_type": "markdown",
      "source": [
        "####1. Install whisper and dependencies\n",
        "* Only run the cell"
      ],
      "metadata": {
        "id": "6UfwDvj4Z5xO"
      }
    },
    {
      "cell_type": "code",
      "source": [
        "!pip install git+https://github.com/openai/whisper.git -qqq\n",
        "!pip install setuptools-rust\n",
        "!apt install ffmpeg"
      ],
      "metadata": {
        "id": "N_zX6oZo-x67"
      },
      "execution_count": null,
      "outputs": []
    },
    {
      "cell_type": "markdown",
      "source": [
        "####2. Upload your video/audio and put their path inside \" \"\n",
        "* Go to files, upload your file, browse for the file, and then click the three dots to copy the path.\n",
        "* Only put the file path of your video/audio\n",
        "** example: \"/home/myaudio.mp4\"\n",
        "\n",
        "* Run the cell"
      ],
      "metadata": {
        "id": "5Vix5PEHaLnt"
      }
    },
    {
      "cell_type": "code",
      "source": [
        "file=\"path_to_file\"\n",
        "\n",
        "!whisper \"{file}\" --model turbo"
      ],
      "metadata": {
        "id": "fIDEYfnNB2ki"
      },
      "execution_count": null,
      "outputs": []
    }
  ]
}